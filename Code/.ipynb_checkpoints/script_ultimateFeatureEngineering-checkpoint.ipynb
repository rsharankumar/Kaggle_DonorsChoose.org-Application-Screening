{
 "cells": [
  {
   "cell_type": "markdown",
   "metadata": {
    "_cell_guid": "e4ab4acc-e3c5-4d2b-9a3b-e215a21892fd",
    "_uuid": "53f8ff3b8c9db4007d8f099ca48dc289829ee216"
   },
   "source": [
    "Hi everybody,\n",
    "\n",
    "in this notebook, I'm going to present some text and numeric feature extraction techniques. Some of them are already presented in the other kernels and some are new. We will focus mostly on the text and we try to place ourselves in the shoes of grant administrators to see what they might focus on when processing the application, *consciously* or *unconsciously*.\n",
    "\n",
    "Let's start with importing modules and loading the files:"
   ]
  },
  {
   "cell_type": "code",
   "execution_count": null,
   "metadata": {
    "_cell_guid": "b1076dfc-b9ad-4769-8c92-a6c4dae69d19",
    "_uuid": "8f2839f25d086af736a60e9eeb907d3b93b6e0e5",
    "collapsed": true
   },
   "outputs": [],
   "source": [
    "import pylab as pl # linear algebra + plots\n",
    "import pandas as pd # data processing, CSV file I/O (e.g. pd.read_csv)\n",
    "import re\n",
    "import gc\n",
    "import xgboost as xgb\n",
    "import lightgbm as lgb\n",
    "import seaborn as sns\n",
    "from sklearn.preprocessing import LabelEncoder, OneHotEncoder\n",
    "from sklearn.feature_extraction.text import CountVectorizer, TfidfVectorizer\n",
    "# from sklearn.metrics import roc_auc_score as auc\n",
    "from sklearn.model_selection import StratifiedKFold\n",
    "from collections import defaultdict, Counter\n",
    "from nltk.tag import pos_tag\n",
    "from nltk.corpus import stopwords\n",
    "from nltk.stem import PorterStemmer\n",
    "from textblob import TextBlob\n",
    "from scipy.stats import pearsonr\n",
    "from scipy.sparse import hstack\n",
    "from multiprocessing import Pool\n",
    "\n",
    "Folder = \"../input/\"\n",
    "Ttr = pd.read_csv(Folder + 'train.csv')\n",
    "Tts = pd.read_csv(Folder + 'test.csv', low_memory=False)\n",
    "R = pd.read_csv(Folder + 'resources.csv')"
   ]
  },
  {
   "cell_type": "markdown",
   "metadata": {
    "_cell_guid": "e3a59fa5-7329-4199-87e6-7839e7091af7",
    "_uuid": "0a5e5e5a991f2d00bbeaaf3effafa6157005a59f"
   },
   "source": [
    "**Data Cleaning**\n",
    "\n",
    "We know from the data description page that the essay column formats had changed on 2016-05-17, and thereafter, there are only 2 essays; essay 1 matches to the combination of essays 1&2 and new essay 2 is somehow equal to old essays 3&4.\n",
    "\n",
    "So, I first move the contents of 'project_essay_2' to 'project_essay_4' when essay 4 is nan, then we simply combine 1&2 and 3&4 to make a uniform dataset."
   ]
  },
  {
   "cell_type": "code",
   "execution_count": null,
   "metadata": {
    "_cell_guid": "79c7e3d0-c299-4dcb-8224-4455121ee9b0",
    "_uuid": "d629ff2d2480ee46fbb7e2d37f6b5fab8052498a",
    "collapsed": true
   },
   "outputs": [],
   "source": [
    "# combine the tables into one\n",
    "target = 'project_is_approved'\n",
    "Ttr['tr'] = 1; Tts['tr'] = 0\n",
    "Ttr['ts'] = 0; Tts['ts'] = 1\n",
    "\n",
    "T = pd.concat((Ttr,Tts))\n",
    "\n",
    "T.loc[T.project_essay_4.isnull(), ['project_essay_4','project_essay_2']] = \\\n",
    "    T.loc[T.project_essay_4.isnull(), ['project_essay_2','project_essay_4']].values\n",
    "\n",
    "T[['project_essay_2','project_essay_3']] = T[['project_essay_2','project_essay_3']].fillna('')\n",
    "\n",
    "T['project_essay_1'] = T.apply(lambda row: ' '.join([str(row['project_essay_1']), \n",
    "                                                     str(row['project_essay_2'])]), axis=1)\n",
    "T['project_essay_2'] = T.apply(lambda row: ' '.join([str(row['project_essay_3']),\n",
    "                                                     str(row['project_essay_4'])]), axis=1)\n",
    "\n",
    "T = T.drop(['project_essay_3', 'project_essay_4'], axis=1)\n"
   ]
  },
  {
   "cell_type": "markdown",
   "metadata": {
    "_cell_guid": "87966d65-c8da-4440-a8d5-3124a523667b",
    "_uuid": "d80c23f1744e7411d7d222ef02be19358c253a0f"
   },
   "source": [
    "**Resource Features**\n",
    "\n",
    "Here we extract some features from the resource file. For each application, there are some resources listed in this file. We can extract how many items and at what prices are requested. minimum, maximum and average price and quantity of each item and for all requested items per application can be important in the decision-making process.\n",
    "\n",
    "Also, I combine the resource description columns and make a new text column in table T. Later, we will do text analysis on this column as well."
   ]
  },
  {
   "cell_type": "code",
   "execution_count": null,
   "metadata": {
    "_cell_guid": "3365bf3f-0914-4fae-ace4-bbb07a7d9dbe",
    "_uuid": "86ffde66ec6502c204ffe1a7fa011c28c9e5f6dd",
    "collapsed": true
   },
   "outputs": [],
   "source": [
    "R['priceAll'] = R['quantity']*R['price']\n",
    "newR = R.groupby('id').agg({'description':'count',\n",
    "                            'quantity':'sum',\n",
    "                            'price':'sum',\n",
    "                            'priceAll':'sum'}).rename(columns={'description':'items'})\n",
    "newR['avgPrice'] = newR.priceAll / newR.quantity\n",
    "numFeatures = ['items', 'quantity', 'price', 'priceAll', 'avgPrice']\n",
    "\n",
    "for func in ['min', 'max', 'mean']:\n",
    "    newR = newR.join(R.groupby('id').agg({'quantity':func,\n",
    "                                          'price':func,\n",
    "                                          'priceAll':func}).rename(\n",
    "                                columns={'quantity':func+'Quantity',\n",
    "                                         'price':func+'Price',\n",
    "                                         'priceAll':func+'PriceAll'}).fillna(0))\n",
    "    numFeatures += [func+'Quantity', func+'Price', func+'PriceAll']\n",
    "\n",
    "newR = newR.join(R.groupby('id').agg({'description':lambda x:' '.join(x.values.astype(str))}).rename(\n",
    "    columns={'description':'resource_description'}))\n",
    "\n",
    "T = T.join(newR, on='id')\n",
    "\n",
    "del Ttr, Tts, R, newR\n",
    "gc.collect();"
   ]
  },
  {
   "cell_type": "markdown",
   "metadata": {
    "_cell_guid": "b6440e69-e7b6-43d4-ab4b-2be1ce6979ab",
    "_uuid": "81da45ae299a00adce4b3216e28c5445a67b2027"
   },
   "source": [
    "**Statistical Features**\n",
    "\n",
    "We know some teachers have applied many times, and knowing the history of their applications, can be helpful to predict approval. So, I convert the teacher_id to numeric values and include it in my numeric features.\n",
    "\n",
    "Often times, knowing the statistics of categorical features, i.e. knowing how many times a certain value has repeated in the dataset can help. So let's extract this information:"
   ]
  },
  {
   "cell_type": "code",
   "execution_count": null,
   "metadata": {
    "_cell_guid": "f01b5895-0db0-4a31-b554-52a7f5209a8b",
    "_uuid": "1399cf655d80034d015f649b70b2b66eb60cf478",
    "collapsed": true
   },
   "outputs": [],
   "source": [
    "le = LabelEncoder()\n",
    "T['teacher_id'] = le.fit_transform(T['teacher_id'])\n",
    "numFeatures += ['teacher_number_of_previously_posted_projects','teacher_id']\n",
    "\n",
    "statFeatures = []\n",
    "for col in ['school_state', 'teacher_id', 'teacher_prefix', 'project_grade_category', 'project_subject_categories', 'project_subject_subcategories', 'teacher_number_of_previously_posted_projects']:\n",
    "    Stat = T[['id', col]].groupby(col).agg('count').rename(columns={'id':col+'_stat'})\n",
    "    Stat /= Stat.sum()\n",
    "    T = T.join(Stat, on=col)\n",
    "    statFeatures.append(col+'_stat')"
   ]
  },
  {
   "cell_type": "markdown",
   "metadata": {
    "_cell_guid": "e8827647-f3fa-4346-ab5b-022d5fbbe8e0",
    "_uuid": "7fbce5012aec42cf0380765d5defdf5f4719defb"
   },
   "source": [
    "**Sentimental Analysis**\n",
    "\n",
    "With the help of textblob module, we can find polarity and subjectivity of texts to some extent. It is, unfortunately, a little time-consuming. There might be other modules that work faster like [VADER-Sentiment](https://github.com/cjhutto/vaderSentiment). Though, I haven't checked other modules. Their quality of analysis can also be different. Have you ever tried other modules? Do you know any better one?\n",
    "\n",
    "Another way of doing (sort of) sentimental analysis is to check for certain words and characters in the texts. I, personally, for example, feel uncomfortable if a text has so many exclamation marks :D. But, seriously, some of these may have an unconscious effect on the examiner. For example, if any words are bolded by \", or the number of sentences (number of \".\"), number of paragraphs (\\r), talking about money ($) or percentages (%), having a URL (http), etc. can influence the decision. What other words or characters do you think can be important?\n",
    "\n",
    "Talking about **I** or **WE** and having positive or negative words and phrases like that can also be influential. In one of the following sections (**Text Features**), by extracting n-grams, I hope to catch such phrases if they appear as repeated patterns.\n",
    "\n",
    "The number of words or the length of the texts can be another factor that can influence the decision unconsciously (or even consciously!). Number of transitional words, verbs, adjectives, adverbs, etc. in an essay can also indicate some aspects of the quality of the text.\n",
    "\n",
    "But, certainly, the quality of the essays is the most effective factor in my opinion. Things like the grammar errors, spelling errors, quality of the texts, word choices etc. are very important. Another important factor, if I was a grant examiner, would have been to check if the application writer could relate their needs to the resources they want through essays and project title. One primitive way to do this is to check for common words in different texts. Let me know if you know any better way to do these type of analysis."
   ]
  },
  {
   "cell_type": "code",
   "execution_count": null,
   "metadata": {
    "_cell_guid": "3743dc74-cd95-4b20-bf3c-6b2e3caef34f",
    "_uuid": "108fd127c916a493748c25d83d92ce4d1b00a5a8",
    "collapsed": true
   },
   "outputs": [],
   "source": [
    "%%time\n",
    "textColumns = ['project_essay_1', 'project_essay_2', 'project_resource_summary', 'resource_description', 'project_title']\n",
    "\n",
    "def getSentFeat(s):\n",
    "    sent = TextBlob(s).sentiment\n",
    "    return (sent.polarity, sent.subjectivity)\n",
    "\n",
    "print('sentimental analysis')\n",
    "with Pool(4) as p:\n",
    "    for col in textColumns:\n",
    "        temp = pl.array(list(p.map(getSentFeat, T[col])))\n",
    "        T[col+'_pol'] = temp[:,0]\n",
    "        T[col+'_sub'] = temp[:,1]\n",
    "        numFeatures += [col+'_pol', col+'_sub']\n",
    "\n",
    "print('key words')\n",
    "KeyChars = ['!', '\\?', '@', '#', '\\$', '%', '&', '\\*', '\\(', '\\[', '\\{', '\\|', '-', '_', '=', '\\+',\n",
    "            '\\.', ':', ';', ',', '/', '\\\\\\\\r', '\\\\\\\\t', '\\\\\"', '\\.\\.\\.', 'etc', 'http']\n",
    "for col in textColumns:\n",
    "    for c in KeyChars:\n",
    "        T[col+'_'+c] = T[col].apply(lambda x: len(re.findall(c, x.lower())))\n",
    "        numFeatures.append(col+'_'+c)\n",
    "\n",
    "#####\n",
    "print('num words')\n",
    "for col in textColumns:\n",
    "    T['n_'+col] = T[col].apply(lambda x: len(x.split()))\n",
    "    numFeatures.append('n_'+col)\n",
    "\n",
    "#####\n",
    "print('word tags')\n",
    "Tags = ['CC', 'CD', 'DT', 'IN', 'JJ', 'LS', 'MD', 'NN', 'NNS', 'NNP', 'NNPS', \n",
    "        'PDT', 'POS', 'PRP', 'PRP$', 'RB', 'RBR', 'RBS', 'RP', 'SYM', 'TO', \n",
    "        'UH', 'VB', 'VBD', 'VBG', 'VBN', 'VBP', 'VBZ', 'WDT', 'WP', 'WP$', 'WRB']\n",
    "def getTagFeat(s):\n",
    "    d = Counter([t[1] for t in pos_tag(s.split())])\n",
    "    return [d[t] for t in Tags]\n",
    "\n",
    "with Pool(4) as p:\n",
    "    for col in textColumns:\n",
    "        temp = pl.array(list(p.map(getTagFeat, T[col])))\n",
    "        for i, t in enumerate(Tags):\n",
    "            if temp[:,i].sum() == 0:\n",
    "                continue\n",
    "            T[col+'_'+t] = temp[:, i]\n",
    "            numFeatures += [col+'_'+t]\n",
    "\n",
    "#####\n",
    "print('common words')\n",
    "for i, col1 in enumerate(textColumns[:-1]):\n",
    "    for col2 in textColumns[i+1:]:\n",
    "        T['%s_%s_common' % (col1, col2)] = T.apply(lambda row:len(set(re.split('\\W', row[col1])).intersection(re.split('\\W', row[col2]))), axis=1)\n",
    "        numFeatures.append('%s_%s_common' % (col1, col2))\n",
    "\n"
   ]
  },
  {
   "cell_type": "markdown",
   "metadata": {
    "_cell_guid": "3aac0f1e-dfb7-4fec-b4dd-27cb7e668d3b",
    "_uuid": "671c946dea8a70e0146abc3888e535196eae590b"
   },
   "source": [
    "Guess what! someone didn't like **!**s in essays. "
   ]
  },
  {
   "cell_type": "code",
   "execution_count": null,
   "metadata": {
    "_cell_guid": "c86749c3-0bf9-4675-a452-64ecc53128d8",
    "_uuid": "4d1c1b51ce99b7199b7eb450900a0c53a8c0cdd5",
    "collapsed": true
   },
   "outputs": [],
   "source": [
    "pl.figure(figsize=(15,5))\n",
    "sns.violinplot(data=T,x=target,y='project_essay_2_!');\n",
    "pl.figure(figsize=(15,5))\n",
    "sns.violinplot(data=T,x=target,y='project_essay_1_!');"
   ]
  },
  {
   "cell_type": "markdown",
   "metadata": {
    "_cell_guid": "21ccce00-851a-4327-a299-1008ecfb6451",
    "_uuid": "4dbd227646a55ef49ca671ef3f3d4ae0ae8f9c5b"
   },
   "source": [
    "**Time Features**\n",
    "\n",
    "The time at which the proposal was submitted can be important. Most importantly, we know thanks to [Heads or Tails](https://www.kaggle.com/headsortails/an-educated-guess-update-feature-engineering) that there is a slight approval rate modulation over time. So we need to extract date info. Day of the week it has been posted can also play a role. I doubt if the hour it was submitted has any significance, but let's let the decision trees take care of that. Next, let's extract some statistics from time features as well."
   ]
  },
  {
   "cell_type": "code",
   "execution_count": null,
   "metadata": {
    "_cell_guid": "17956b51-6093-4d45-9155-9def94f9f8ae",
    "_uuid": "c97734d54aaf7c667f23c39fd80588f4e8860521",
    "collapsed": true
   },
   "outputs": [],
   "source": [
    "dateCol = 'project_submitted_datetime'\n",
    "def getTimeFeatures(T):\n",
    "    T['year'] = T[dateCol].apply(lambda x: x.year)\n",
    "    T['month'] = T[dateCol].apply(lambda x: x.month)\n",
    "    T['day'] = T[dateCol].apply(lambda x: x.day)\n",
    "    T['dow'] = T[dateCol].apply(lambda x: x.dayofweek)\n",
    "    T['hour'] = T[dateCol].apply(lambda x: x.hour)\n",
    "    T['days'] = (T[dateCol]-T[dateCol].min()).apply(lambda x: x.days)\n",
    "    return T\n",
    "\n",
    "T[dateCol] = pd.to_datetime(T[dateCol])\n",
    "T = getTimeFeatures(T)\n",
    "\n",
    "P_tar = T[T.tr==1][target].mean()\n",
    "timeFeatures = ['year', 'month', 'day', 'dow', 'hour', 'days']\n",
    "for col in timeFeatures:\n",
    "    Stat = T[['id', col]].groupby(col).agg('count').rename(columns={'id':col+'_stat'})\n",
    "    Stat /= Stat.sum()\n",
    "    T = T.join(Stat, on=col)\n",
    "    statFeatures.append(col+'_stat')\n",
    "\n",
    "numFeatures += timeFeatures\n",
    "numFeatures += statFeatures"
   ]
  },
  {
   "cell_type": "markdown",
   "metadata": {
    "_cell_guid": "ff8aed0a-93c2-4708-a52b-1568c7ed629a",
    "_uuid": "a3c1abe31781a1764c269c1b5c3455ae70b87ee2"
   },
   "source": [
    "**Polynomial Features**\n",
    "\n",
    "So far, I have extracted some numerical features. Often it helps the decision trees to provide some polynomial features to them. Here I include first-order interaction polynomials, and I check for the significance of the new variable before adding it to the columns. I add it only if it really helps to predict the approval better. A trick that I'm using here is that, maybe, the division of two variables is more significantly predicting the target! That would be the case if 1/V is a more significant predictor than V. So, I check for the significance of 1/(V+1) and V+1 (+1 is to avoid production or division by 0), and replace the most significant one to the original variable V. What do you think about this? It certainly helped though!\n",
    "\n",
    "By checking the significance and correlation in training set, there will be an over-training chance, which I'm trying to decrease by computing the average of correlations and p-values over randomly selected subsets."
   ]
  },
  {
   "cell_type": "code",
   "execution_count": null,
   "metadata": {
    "_cell_guid": "1b5641c3-dc41-47e5-bd87-b69e99593fa3",
    "_uuid": "35e5318c809a7ecb64165d9e1a20187cfe55cf1a",
    "collapsed": true
   },
   "outputs": [],
   "source": [
    "%%time\n",
    "T2 = T[numFeatures+['id','tr','ts',target]].copy()\n",
    "Ttr = T2[T.tr==1]\n",
    "Tar_tr = Ttr[target].values\n",
    "n = 10\n",
    "inx = [pl.randint(0, Ttr.shape[0], int(Ttr.shape[0]/n)) for k in range(n)]\n",
    "# inx is used for crossvalidation of calculating the correlation and p-value\n",
    "Corr = {}\n",
    "for c in numFeatures:\n",
    "    # since some values might be 0s, I use x+1 to avoid missing some important relations\n",
    "    C1,P1=pl.nanmean([pearsonr(Tar_tr[inx[k]],   (1+Ttr[c].iloc[inx[k]])) for k in range(n)], 0)\n",
    "    C2,P2=pl.nanmean([pearsonr(Tar_tr[inx[k]], 1/(1+Ttr[c].iloc[inx[k]])) for k in range(n)], 0)\n",
    "    if P2<P1:\n",
    "        T2[c] = 1/(1+T2[c])\n",
    "        Corr[c] = [C2,P2]\n",
    "    else:\n",
    "        T2[c] = 1+T2[c]\n",
    "        Corr[c] = [C1,P1]\n",
    "\n",
    "polyCol = []\n",
    "thrP = 0.01\n",
    "thrC = 0.02\n",
    "print('columns \\t\\t\\t Corr1 \\t\\t Corr2 \\t\\t Corr Combined')\n",
    "for i, c1 in enumerate(numFeatures[:-1]):\n",
    "    C1, P1 = Corr[c1]\n",
    "    for c2 in numFeatures[i+1:]:\n",
    "        C2, P2 = Corr[c2]\n",
    "        V = T2[c1] * T2[c2]\n",
    "        Vtr = V[T2.tr==1].values\n",
    "        C, P = pl.nanmean([pearsonr(Tar_tr[inx[k]], Vtr[inx[k]]) for k in range(n)], 0)\n",
    "        if P<thrP and abs(C) - max(abs(C1),abs(C2)) > thrC:\n",
    "            T[c1+'_'+c2+'_poly'] = V\n",
    "            polyCol.append(c1+'_'+c2+'_poly')\n",
    "            print(c1+'_'+c2, '\\t\\t(%g, %g)\\t(%g, %g)\\t(%g, %g)'%(C1,P1, C2,P2, C,P))\n",
    "\n",
    "numFeatures += polyCol\n",
    "print(len(numFeatures))\n",
    "del T2, Ttr\n",
    "gc.collect();"
   ]
  },
  {
   "cell_type": "markdown",
   "metadata": {
    "_cell_guid": "b54d5fc2-e37a-48b6-bae2-d8dbeaa6ff05",
    "_uuid": "78382c455955fb9baf63176dd5daeeefd7774409"
   },
   "source": [
    "For example, the variable created out of *maxPrice* and *meanPrice* is much more informative:"
   ]
  },
  {
   "cell_type": "code",
   "execution_count": null,
   "metadata": {
    "_cell_guid": "aa247108-204c-4f3a-b904-cad7df7cd6cd",
    "_uuid": "a1b0416d872c3af089241a5e669b360d98b34e71",
    "collapsed": true
   },
   "outputs": [],
   "source": [
    "pl.figure(figsize=(15,5));sns.violinplot(data=T,x=target,y='maxPrice')\n",
    "pl.figure(figsize=(15,5));sns.violinplot(data=T,x=target,y='meanPrice')\n",
    "pl.figure(figsize=(15,5));sns.violinplot(data=T,x=target,y='maxPrice_meanPrice_poly');"
   ]
  },
  {
   "cell_type": "markdown",
   "metadata": {
    "_cell_guid": "0247184d-dd28-49c7-9104-f15326f3efc9",
    "_uuid": "f03893f165cf128033bbcaa365bbdbe9513fc79b"
   },
   "source": [
    "**Categorical Features**\n",
    "\n",
    "Next, we include categorical features. Two well-known ways are to use one-hot encoding (one column per value with 0s and 1s) or label encoding (assigning a number to each value). I tried both; sometimes one-hot works better and sometimes label encoder. Currently, I have not activated the one-hot encoder. Categorical features are teacher prefix, state, grade, and subject categories."
   ]
  },
  {
   "cell_type": "code",
   "execution_count": null,
   "metadata": {
    "_cell_guid": "45e61bea-990c-4ca8-ae0e-7efe611d6971",
    "_uuid": "a57a9b4ea3cce08cd1b69134e7cc8bbd5f1b9f51",
    "collapsed": true
   },
   "outputs": [],
   "source": [
    "def getCatFeatures(T, Col, Encoder='OneHot'):\n",
    "    ohe = OneHotEncoder()\n",
    "    le = LabelEncoder()\n",
    "    if Encoder=='OneHot':\n",
    "        X = ohe.fit_transform(le.fit_transform(T[Col].fillna('')).reshape((-1,1)))\n",
    "    else:\n",
    "        X = le.fit_transform(T[Col].fillna(''))\n",
    "    return X\n",
    "\n",
    "Encoder = 'LE'#'OneHot'\n",
    "X_tp = getCatFeatures(T, 'teacher_prefix', Encoder)\n",
    "X_sc = getCatFeatures(T, 'school_state', Encoder)\n",
    "X_pgc = getCatFeatures(T, 'project_grade_category', Encoder)\n",
    "X_psc = getCatFeatures(T, 'project_subject_categories', Encoder)\n",
    "X_pssc = getCatFeatures(T, 'project_subject_subcategories', Encoder)\n",
    "\n",
    "\n",
    "if Encoder=='OneHot':\n",
    "    X_cat = hstack((X_tp, X_sc, X_pgc, X_psc, X_pssc))\n",
    "else:\n",
    "    X_cat = pl.array((X_tp, X_sc, X_pgc, X_psc, X_pssc)).T\n",
    "\n",
    "del X_tp, X_sc, X_pgc, X_psc, X_pssc"
   ]
  },
  {
   "cell_type": "markdown",
   "metadata": {
    "_cell_guid": "e4f63065-120c-428b-af6a-38e2a82b34e9",
    "_uuid": "44c22f1eadfcaad5c00879ddf733cd9848257b81"
   },
   "source": [
    "**Text Features**\n",
    "\n",
    "Finally, we do text analysis. For this section, I used both Tf-IDF and count vectorizer and interestingly, count vectorizer with binary features, showing only if a word is in the text, has the best performance in my experience. Other than that, since there are mis-spellings in the texts, it would have helped to check for spelling errors first. I found \"TextBlob\" and \"autocorrect\" modules for this purpose but, unfortunately, it was so slow and I didn't use it at last. Do you know any better way to do that?Also, I decided not using any stop words because some of them can actually be useful in this case and after all they are only a few words.\n",
    "\n",
    "I tried using dimensionality reduction techniques to reduce the dimensions following the idea of Latent Semantic Analysis, but it didn't help the prediction as well."
   ]
  },
  {
   "cell_type": "code",
   "execution_count": null,
   "metadata": {
    "_cell_guid": "ce511c83-9b16-4bea-875d-18f5690bdfe0",
    "_uuid": "f1e87bc07dc73a9a2e78ba22c408f3848dbb04c4",
    "collapsed": true
   },
   "outputs": [],
   "source": [
    "%%time\n",
    "# from nltk.stem.wordnet import WordNetLemmatizer\n",
    "# from autocorrect import spell  # as spell checker and corrector\n",
    "# L = WordNetLemmatizer()\n",
    "p = PorterStemmer()\n",
    "def wordPreProcess(sentence):\n",
    "    return ' '.join([p.stem(x.lower()) for x in re.split('\\W', sentence) if len(x) >= 1])\n",
    "# return ' '.join([p.stem(L.lemmatize(spell(x.lower()))) for x in re.split('\\W', sentence) if len(x) > 1])\n",
    "\n",
    "\n",
    "def getTextFeatures(T, Col, max_features=10000, verbose=True):\n",
    "    if verbose:\n",
    "        print('processing: ', Col)\n",
    "    vectorizer = CountVectorizer(stop_words=None,\n",
    "                                 preprocessor=wordPreProcess,\n",
    "                                 max_features=max_features,\n",
    "                                 binary=True,\n",
    "                                 ngram_range=(1,2))\n",
    "#     vectorizer = TfidfVectorizer(stop_words=stopwords.words('english'),\n",
    "#                                  preprocessor=wordPreProcess,\n",
    "#                                  max_features=max_features)\n",
    "    X = vectorizer.fit_transform(T[Col])\n",
    "    return X, vectorizer.get_feature_names()\n",
    "\n",
    "\n",
    "X_es1, feat_es1 = getTextFeatures(T, 'project_essay_1', max_features=5000)\n",
    "X_es2, feat_es2 = getTextFeatures(T, 'project_essay_2', max_features=7000)\n",
    "X_prs, feat_prs = getTextFeatures(T, 'project_resource_summary', max_features=1000)\n",
    "X_rd, feat_rd = getTextFeatures(T, 'resource_description', max_features=2000)\n",
    "X_pt, feat_pt = getTextFeatures(T, 'project_title', max_features=500)\n",
    "\n",
    "X_txt = hstack((X_es1, X_es2, X_prs, X_rd, X_pt))\n",
    "del X_es1, X_es2, X_prs, X_rd, X_pt\n",
    "\n",
    "# \n",
    "# from sklearn.decomposition import TruncatedSVD\n",
    "# svd = TruncatedSVD(1000)\n",
    "# X_txt = svd.fit_transform(X_txt)"
   ]
  },
  {
   "cell_type": "markdown",
   "metadata": {
    "_cell_guid": "fbd7c462-10ad-483d-afb6-27211b30005e",
    "_uuid": "cc68c82887f94acf062bac04a44c35e85ce7e4a8"
   },
   "source": [
    "Finally, let's make up the train and test matrices:"
   ]
  },
  {
   "cell_type": "code",
   "execution_count": null,
   "metadata": {
    "_cell_guid": "62487f21-f3c3-4eaa-9a69-33e7c394b663",
    "_uuid": "baf065d495812fb174a157f9257dfef0f9880fd1",
    "collapsed": true
   },
   "outputs": [],
   "source": [
    "X = hstack((X_txt, X_cat, T[numFeatures].fillna(0))).tocsr()\n",
    "\n",
    "Xtr = X[pl.find(T.tr==1), :]\n",
    "Xts = X[pl.find(T.ts==1), :]\n",
    "Ttr_tar = T[T.tr==1][target].values\n",
    "Tts = T[T.ts==1][['id']]\n",
    "\n",
    "Yts = []\n",
    "del T\n",
    "del X\n",
    "gc.collect();"
   ]
  },
  {
   "cell_type": "markdown",
   "metadata": {
    "_cell_guid": "f08180b8-87c9-4f7e-890b-96b8c8cbb60f",
    "_uuid": "822836adc80aaa3142743a2e0f99fb54bc2bb0ac"
   },
   "source": [
    "**Training Models**\n",
    "\n",
    "Here I train some XGBs and LGBs and stack them. I have two levels of stacking. First level on the results of XGB and LGB by LinearRegression. The second level is by simple average over the results taken by different validation sets. The result will be of course better if we stack more models."
   ]
  },
  {
   "cell_type": "code",
   "execution_count": null,
   "metadata": {
    "_cell_guid": "cc0c5dd5-346a-4b95-be35-61a258f61399",
    "_uuid": "37ab27d4b209f7d80177d5041ffdcf48fe3528d3",
    "collapsed": true
   },
   "outputs": [],
   "source": [
    "from sklearn.model_selection import train_test_split\n",
    "from sklearn.linear_model import LinearRegression\n",
    "from sklearn.metrics import roc_auc_score as auc\n",
    "\n",
    "params_xgb = {\n",
    "        'eta': 0.05,\n",
    "        'max_depth': 4,\n",
    "        'subsample': 0.85,\n",
    "        'colsample_bytree': 0.25,\n",
    "        'min_child_weight': 3,\n",
    "        'objective': 'binary:logistic',\n",
    "        'eval_metric': 'auc',\n",
    "        'seed': 0,\n",
    "        'silent': 1,\n",
    "    }\n",
    "params_lgb = {\n",
    "        'boosting_type': 'dart',\n",
    "        'objective': 'binary',\n",
    "        'metric': 'auc',\n",
    "        'max_depth': 10,\n",
    "        'learning_rate': 0.05,\n",
    "        'feature_fraction': 0.25,\n",
    "        'bagging_fraction': 0.85,\n",
    "        'seed': 0,\n",
    "        'verbose': 0,\n",
    "    }\n",
    "nCV = 2 # should e ideally more\n",
    "for i in range(nCV):\n",
    "    X_train, X_val, Tar_train, Tar_val = train_test_split(Xtr, Ttr_tar, test_size=0.15, random_state=i, stratify=Ttr_tar)\n",
    "    # XGB\n",
    "    dtrain = xgb.DMatrix(X_train, label=Tar_train)\n",
    "    dval   = xgb.DMatrix(X_val, label=Tar_val)\n",
    "    watchlist = [(dtrain, 'train'), (dval, 'valid')]\n",
    "    model = xgb.train(params_xgb, dtrain, 5000,  watchlist, maximize=True, verbose_eval=200, early_stopping_rounds=200)\n",
    "    Yvl1 = model.predict(dval)\n",
    "    Yts1 = model.predict(xgb.DMatrix(Xts))\n",
    "    # LGB\n",
    "    dtrain = lgb.Dataset(X_train, Tar_train)\n",
    "    dval   = lgb.Dataset(X_val, Tar_val)\n",
    "    model = lgb.train(params_lgb, dtrain, num_boost_round=10000, valid_sets=[dtrain, dval], early_stopping_rounds=200, verbose_eval=200)\n",
    "    Yvl2 = model.predict(X_val)\n",
    "    Yts2 = model.predict(Xts)\n",
    "    # stack\n",
    "    M = LinearRegression()\n",
    "    M.fit(pl.array([Yvl1, Yvl2]).T, Tar_val)\n",
    "    Yts.append(M.predict(pl.array([Yts1, Yts2]).T))\n",
    "    \n",
    "\n"
   ]
  },
  {
   "cell_type": "markdown",
   "metadata": {
    "_cell_guid": "373c429f-3e09-44ce-80c2-3fcd1802a0ab",
    "_uuid": "57dd1713e47073615b6af9b8c8e5e3f5ccc882b2"
   },
   "source": [
    "**Output for Test Set**\n",
    "\n",
    "At last, we make the stack of test set outputs by simple averaging, maybe rank average or median work better, I didn't try."
   ]
  },
  {
   "cell_type": "code",
   "execution_count": null,
   "metadata": {
    "_cell_guid": "7b149c3f-3c06-432c-a2de-49c577cf8f93",
    "_uuid": "945b110c20cf8db3f53b61e987b65c3e53ac197a",
    "collapsed": true
   },
   "outputs": [],
   "source": [
    "from sklearn.preprocessing import MinMaxScaler\n",
    "Tts[target] = MinMaxScaler().fit_transform(pl.array(Yts).mean(0).reshape(-1,1))\n",
    "Tts[['id', target]].to_csv('text_cat_num_xgb_lgb.csv', index=False)"
   ]
  },
  {
   "cell_type": "markdown",
   "metadata": {
    "_cell_guid": "044bd3dc-9435-4be1-ad8d-2d4753b0541b",
    "_uuid": "1a9ee175fd3bc8d9f3149953e8e713448b77a8f7"
   },
   "source": [
    "**Further Possible Improvements**\n",
    "\n",
    "* One obvious way to improve it is to play with the decision tree parameters, stacking more models, and perhaps stacking different kinds of trainers (maybe other ensemble models or neural networks)\n",
    "* Fluency and articulation of the texts can be an important factor if we could somehow measure it\n",
    "* Checking for existence of special keywords that might attract or repel the reader -- if they are not already captured by the extracted n-grams\n",
    "* Checking and correcting for the spell of the words, before stemming them can help. Also, maybe the existence of spell or grammatical errors influences the decision\n",
    "* Checking for concurrency of the texts or required resources to special events that have occurred at that time might be useful. Maybe because of some events, some proposals are being accepted more easily, due to public awareness or hotness of some topics\n",
    "\n",
    "Thanks for staying so far! Hope it helps.\n",
    "\n",
    "Let me know if you have any comments, or suggestions for improvement, or if you think I can do some parts more efficiently."
   ]
  }
 ],
 "metadata": {
  "kernelspec": {
   "display_name": "Python 3",
   "language": "python",
   "name": "python3"
  },
  "language_info": {
   "codemirror_mode": {
    "name": "ipython",
    "version": 3
   },
   "file_extension": ".py",
   "mimetype": "text/x-python",
   "name": "python",
   "nbconvert_exporter": "python",
   "pygments_lexer": "ipython3",
   "version": "3.5.3"
  }
 },
 "nbformat": 4,
 "nbformat_minor": 1
}
